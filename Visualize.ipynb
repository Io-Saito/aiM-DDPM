{
 "cells": [
  {
   "cell_type": "code",
   "execution_count": null,
   "metadata": {},
   "outputs": [],
   "source": [
    "import numpy as np\n",
    "import matplotlib.pyplot as plt\n",
    "import glob\n",
    "import os"
   ]
  },
  {
   "cell_type": "code",
   "execution_count": null,
   "metadata": {},
   "outputs": [],
   "source": [
    "anom_path=... #Put original - anomalous image path\n",
    "denoised_path=... #Put denoised image path\n",
    "gt_path=... #Put original clean image path\n",
    "filelist = os.listdir(glob.glob(anom_path)[0])\n",
    "mse=[]\n",
    "for x in filelist:\n",
    "   \"\"\"\n",
    "    Assume that the filename are the same as the anomarous image and denoised image \n",
    "   \"\"\"\n",
    "   # gt_=np.load(\"/content/drive/MyDrive/DDPM/Data/Ground Truth/\"+x)[0:128,0:128] #Since my original was stored in somewhere else, I put this - ignore if you don't need it \n",
    "   # np.save(gt_path+\"/\"+x, gt_)\n",
    "   anom=np.load(anom_path+\"/\"+x)\n",
    "   denoised=np.load(denoised_path+\"/\"+x)\n",
    "   gt_=np.load(gt_path+\"/\"+x)\n",
    "   diff=anom - denoised\n",
    "   plt.matshow(diff,vmin=-1*np.max(np.abs(diff)),vmax=np.max(np.abs(diff)), cmap=\"RdBu\")\n",
    "   plt.colorbar()\n",
    "   plt.matshow(anom, cmap=\"Greys\")\n",
    "   plt.matshow(denoised,cmap=\"Greys\")\n",
    "   plt.matshow(gt_,cmap=\"Greys\")\n",
    "\n",
    "   mse_=np.mean((diff) ** 2)\n",
    "   mse.append(mse_)"
   ]
  },
  {
   "cell_type": "code",
   "execution_count": null,
   "metadata": {},
   "outputs": [],
   "source": [
    "plt.hist(mse)"
   ]
  }
 ],
 "metadata": {
  "language_info": {
   "name": "python"
  }
 },
 "nbformat": 4,
 "nbformat_minor": 2
}
